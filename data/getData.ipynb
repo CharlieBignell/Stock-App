{
 "cells": [
  {
   "cell_type": "code",
   "execution_count": null,
   "metadata": {},
   "outputs": [],
   "source": [
    "import pandas as pd\n",
    "import numpy as np\n",
    "import yfinance as yf\n",
    "import matplotlib.pyplot as plt\n",
    "\n",
    "from pandas_datareader import data as web \n",
    "from datetime import timedelta\n",
    "from utils import getDateFormat, getDayPortfolio\n",
    "\n",
    "pd.options.mode.chained_assignment = None "
   ]
  },
  {
   "cell_type": "code",
   "execution_count": null,
   "metadata": {},
   "outputs": [],
   "source": [
    "\n",
    "# Get the data\n",
    "df_basic = pd.read_csv('./inputs/basic.csv')\n",
    "df_other = pd.read_csv('./inputs/other.csv')\n",
    "\n",
    "# Format date fields\n",
    "df_basic['date'] = pd.to_datetime(df_basic['date'])\n",
    "df_other['date'] = pd.to_datetime(df_other['date'])\n",
    "\n",
    "# Split buys and sells into separate dataframes\n",
    "df_buys = df_basic.loc[df_basic[\"type\"] == \"BUY\"]\n",
    "df_sells = df_basic.loc[df_basic[\"type\"] == \"SELL\"]\n",
    "\n",
    "# Get the earliest transaction date\n",
    "minDate = min(df_basic[\"date\"].min(), df_other[\"date\"].min())\n",
    "yesterday = pd.to_datetime(\"today\") - timedelta(days=1)\n",
    "\n",
    "# A list of all the tickers\n",
    "tickers_all = df_basic['ticker'].unique()\n",
    "\n",
    "# A list of all tickers with their currency\n",
    "tickers_currency = df_buys[[\"ticker\", \"currency\"]].drop_duplicates().reset_index(drop=True)\n",
    "\n",
    "# A list of currently held tickers\n",
    "tickers_current = getDayPortfolio(df_buys, df_sells)[\"ticker\"].explode().unique() "
   ]
  },
  {
   "cell_type": "code",
   "execution_count": null,
   "metadata": {},
   "outputs": [],
   "source": [
    "# Fill the df with all days from first investment to yeasterday, and linearly interpolate missing values in the given columns\n",
    "def fillDays(df, columns, start = minDate, end = yesterday):\n",
    "    # Fill df with all days\n",
    "    dates = pd.date_range(start, end).to_series(name=\"date\")\n",
    "    df = pd.merge(dates, df, on=\"date\", how=\"left\", sort=True)\n",
    "\n",
    "    # Interpolate missing values\n",
    "    df[columns] = df[columns].interpolate(limit_area = \"inside\")\n",
    "\n",
    "    return df.fillna(0)"
   ]
  },
  {
   "cell_type": "code",
   "execution_count": null,
   "metadata": {},
   "outputs": [],
   "source": [
    "########################\n",
    "#  Get Overall Market  #\n",
    "########################\n",
    "\n",
    "# Get the data\n",
    "df_spy = web.DataReader(\"SPY\", 'yahoo', minDate, yesterday).reset_index()\n",
    "df_ftse = web.DataReader(\"VUKE.L\", 'yahoo', minDate, yesterday).reset_index()\n",
    "df_spy = df_spy[[\"Date\", \"Adj Close\"]]\n",
    "df_ftse = df_ftse[[\"Date\", \"Adj Close\"]]\n",
    "\n",
    "# Merge them together\n",
    "df_markets = pd.merge(df_spy, df_ftse, on=\"Date\", how=\"outer\", sort=True)\n",
    "df_markets = df_markets.rename(columns={\"Date\": \"date\", \"Adj Close_x\": \"spy\", \"Adj Close_y\": \"ftse\"})\n",
    "\n",
    "df_markets = fillDays(df_markets, [\"spy\", \"ftse\"])"
   ]
  },
  {
   "cell_type": "code",
   "execution_count": null,
   "metadata": {},
   "outputs": [],
   "source": [
    "########################\n",
    "#  Get exchange rates  #\n",
    "########################\n",
    "\n",
    "# Get any necessary exchange rates\n",
    "df_exchange_USDGBP = web.DataReader(\"GBPUSD=X\", 'yahoo', minDate, yesterday).reset_index()\n",
    "df_exchange_USDGBP = df_exchange_USDGBP[[\"Date\", \"Close\"]]\n",
    "df_exchange_USDGBP = df_exchange_USDGBP.rename(columns={\"Date\": \"date\", \"Close\": \"close_currency\"})\n",
    "df_exchange_USDGBP = fillDays(df_exchange_USDGBP, [\"close_currency\"])"
   ]
  },
  {
   "cell_type": "code",
   "execution_count": 79,
   "metadata": {},
   "outputs": [
    {
     "name": "stdout",
     "output_type": "stream",
     "text": [
      "                           0      1\n",
      "0      Market Cap (intraday)  2.69T\n",
      "1           Enterprise Value  2.75T\n",
      "2               Trailing P/E  29.32\n",
      "3                Forward P/E  28.90\n",
      "4  PEG Ratio (5 yr expected)   3.47\n",
      "5          Price/Sales (ttm)   7.58\n",
      "6           Price/Book (mrq)  42.59\n",
      "7   Enterprise Value/Revenue   7.52\n",
      "8    Enterprise Value/EBITDA  22.33\n"
     ]
    }
   ],
   "source": [
    "import yahoo_fin.stock_info as si\n",
    "import yahoo_fin.news as ne\n",
    "\n",
    "# '', '', 'sector', '', 'rsi_3m', '', 'beta', , \n",
    "# print(si.get_stats(\"AAPL\"))\n",
    "print(si.get_stats_valuation(\"AAPL\"))\n",
    "# print(si.get_quote_data(\"AAPL\"))\n",
    "\n",
    "def printInfo(t):\n",
    "    print(t)\n",
    "    print(\"Name:\\t\\t\", si.get_quote_data(t)[\"longName\"])\n",
    "    print(\"Price P/E:\\t\", si.get_quote_data(\"AAPL\")[\"regularMarketOpen\"])\n",
    "    print(\"Analyst:\\t\",si.get_quote_data(t)[\"averageAnalystRating\"])\n",
    "    print(\"Market Cap:\\t\", si.get_quote_data(\"AAPL\")[\"marketCap\"])\n",
    "    print(\"Trailing P/E:\\t\", si.get_quote_data(\"AAPL\")[\"trailingPE\"])\n",
    "    print(\"Forward P/E:\\t\", si.get_quote_data(\"AAPL\")[\"forwardPE\"])\n",
    "\n",
    "    print()\n",
    "\n",
    "# printInfo(\"AAPL\")\n",
    "\n",
    "# for ticker in tickers_all:\n",
    "#     print()\n",
    "#     print(ticker)\n",
    "#     try:\n",
    "#         print(si.get_quote_data(ticker)[\"longName\"])\n",
    "        \n",
    "#     except KeyError:\n",
    "#         \"Error\"\n",
    "\n"
   ]
  },
  {
   "cell_type": "code",
   "execution_count": null,
   "metadata": {},
   "outputs": [],
   "source": [
    "#####################\n",
    "#  Get Ticker Data  #\n",
    "#####################\n",
    "df_closing_all = []\n",
    "\n",
    "for ticker in tickers_all:\n",
    "\n",
    "    df_closing_ticker = []\n",
    "\n",
    "    # Get the currency for the current ticker\n",
    "    tickerCurrency = tickers_currency.loc[tickers_currency[\"ticker\"] == ticker, \"currency\"].values[0]\n",
    "\n",
    "    # Get the first transaction date for the ticker\n",
    "    date_first = df_buys.loc[df_buys[\"ticker\"] == ticker][\"date\"].min()\n",
    "    \n",
    "   \n",
    "\n",
    "    # Get the last transaction date for the ticker, or the current date if it's still being held\n",
    "    date_last = yesterday\n",
    "    if ticker not in tickers_current:\n",
    "        date_last = df_sells.loc[df_sells[\"ticker\"] == ticker][\"date\"].max()\n",
    "\n",
    "    # Get the close prices for each day\n",
    "    df_closing_ticker = web.DataReader(ticker, 'yahoo', date_first, date_last).reset_index()\n",
    "\n",
    "    # Make sure we have a 'first' date\n",
    "    while date_first != df_closing_ticker[\"Date\"].min():\n",
    "        date_first = date_first - timedelta(days=1)\n",
    "        df_closing_ticker = web.DataReader(ticker, 'yahoo', date_first, date_last).reset_index()\n",
    "\n",
    "    # Format the df\n",
    "    df_closing_ticker = df_closing_ticker.rename(columns={\"Date\": \"date\", \"Close\": \"close_native\"})\n",
    "    df_closing_ticker = df_closing_ticker[[\"date\", \"close_native\"]]\n",
    "    df_closing_ticker = fillDays(df_closing_ticker, \"close_native\", date_first, date_last)   \n",
    "    df_closing_ticker[\"ticker\"] = ticker\n",
    "\n",
    "    # If it's USD, divide by the exchange rate for the relevant day\n",
    "    if tickerCurrency == \"USD\":\n",
    "        df_closing_ticker = pd.merge(df_closing_ticker, df_exchange_USDGBP, how=\"left\", on=\"date\")\n",
    "        df_closing_ticker[\"close_native\"] = df_closing_ticker[\"close_native\"]/df_closing_ticker[\"close_currency\"]\n",
    "        df_closing_ticker.drop(columns=[\"close_currency\"], inplace=True)\n",
    "\n",
    "    # If it's GBp, divide by 100 to convert to £\n",
    "    elif tickerCurrency == \"GBP\":\n",
    "        df_closing_ticker[\"close_native\"] = df_closing_ticker[\"close_native\"]/100\n",
    "    else:\n",
    "        print(\"ERROR: Unidentified Currency - \", ticker)\n",
    "\n",
    "    df_closing_ticker = df_closing_ticker.rename(columns={\"close_native\": \"close\"})\n",
    "\n",
    "    df_closing_all.append(df_closing_ticker)\n",
    "\n",
    "# Concatenate all data\n",
    "df_closing_all = pd.concat(df_closing_all)"
   ]
  },
  {
   "cell_type": "code",
   "execution_count": null,
   "metadata": {},
   "outputs": [],
   "source": [
    "df_closing_all.to_csv('./closingPrices.csv', index=False)\n",
    "df_markets.to_csv('./markets.csv', index=False)\n",
    "df_tickerInfo.to_csv('./tickerInfo.csv', index=False)"
   ]
  }
 ],
 "metadata": {
  "interpreter": {
   "hash": "df0a458c3639403d991568692139548604efa98f7278b26e525dbc1fa1c1e309"
  },
  "kernelspec": {
   "display_name": "Python 3.8.5 32-bit",
   "language": "python",
   "name": "python3"
  },
  "language_info": {
   "codemirror_mode": {
    "name": "ipython",
    "version": 3
   },
   "file_extension": ".py",
   "mimetype": "text/x-python",
   "name": "python",
   "nbconvert_exporter": "python",
   "pygments_lexer": "ipython3",
   "version": "3.8.10"
  },
  "orig_nbformat": 4
 },
 "nbformat": 4,
 "nbformat_minor": 2
}
